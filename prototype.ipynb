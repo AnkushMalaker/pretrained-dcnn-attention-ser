{
 "cells": [
  {
   "cell_type": "code",
   "execution_count": 1,
   "metadata": {},
   "outputs": [],
   "source": [
    "import numpy as np\n",
    "from sklearn.model_selection import train_test_split\n",
    "import random\n",
    "\n",
    "import tensorflow as tf\n",
    "import tensorflow_io as tfio\n",
    "import os"
   ]
  },
  {
   "cell_type": "code",
   "execution_count": 5,
   "metadata": {},
   "outputs": [],
   "source": [
    "DATA_DIR = './dataset/all/'\n",
    "\n",
    "\n",
    "EMOTION_DICT_RAVDEES = {\n",
    "    \"01\": \"neutral\",\n",
    "    \"02\": \"calm\",\n",
    "    \"03\": \"happy\",\n",
    "    \"04\": \"sad\",\n",
    "    \"05\": \"angry\",\n",
    "    \"06\": \"fearful\",\n",
    "    \"07\": \"disgust\",\n",
    "    \"08\": \"surprised\",\n",
    "}\n",
    "\n",
    "def decompose_label(file_path: str):\n",
    "    return label_to_int[file_path.split(\"-\")[2]]\n",
    "\n",
    "file_path_list = os.listdir(DATA_DIR)\n",
    "label_to_int = dict({(key, i) for i, key in enumerate(EMOTION_DICT_RAVDEES.keys())})\n",
    "labels = [decompose_label(file_path) for file_path in file_path_list]"
   ]
  },
  {
   "cell_type": "code",
   "execution_count": 8,
   "metadata": {},
   "outputs": [],
   "source": [
    "# Potential class weights ? \n",
    "# total = np.sum(train_df['label'].value_counts())\n",
    "# class_weights = [1-(x/total) for x in train_df['label'].value_counts()]\n",
    "# class_weights = np.array(class_weights)/6\n",
    "# class_weights"
   ]
  },
  {
   "cell_type": "code",
   "execution_count": null,
   "metadata": {},
   "outputs": [],
   "source": [
    "# SR = 22050 for ravdees\n",
    "import tensorflow_io as tfio\n",
    "file_contents = tf.io.read_file(os.path.join(DATA_DIR, file_path_list[0]))\n",
    "print(file_contents)"
   ]
  },
  {
   "cell_type": "code",
   "execution_count": null,
   "metadata": {},
   "outputs": [],
   "source": [
    "def load_wav(file_path, sr=22050):\n",
    "    pre_emp = 0.97\n",
    "    file_contents = tf.io.read_file(file_path)\n",
    "\n",
    "    # Default SR is 22050, putting desired_samples to 66150 to get 3 second sample\n",
    "    wav, sr = tf.audio.decode_wav(\n",
    "        file_contents, desired_channels=1, desired_samples=66150\n",
    "    )\n",
    "\n",
    "    wav = tf.squeeze(wav, axis=-1)\n",
    "\n",
    "    # Apply preamp if needed\n",
    "    wav = tf.experimental.numpy.append(wav[0], wav[1:] - pre_emp * wav[:-1])\n",
    "\n",
    "    return wav\n",
    "\n",
    "\n",
    "def get_mfcc(wav, sr=22050):\n",
    "    stft_out = tf.signal.stft(\n",
    "        wav, 400, 160, window_fn=tf.signal.hamming_window, pad_end=False\n",
    "    )\n",
    "    num_spectrogram_bins = tf.shape(stft_out)[-1]\n",
    "    stft_abs = tf.abs(stft_out)\n",
    "    lower_edge_hz, upper_edge_hz = 20.0, 8000.0\n",
    "    num_mel_bins = 64\n",
    "    linear_to_mel_weight_matrix = tf.signal.linear_to_mel_weight_matrix(\n",
    "        num_mel_bins, num_spectrogram_bins, 16000, lower_edge_hz, upper_edge_hz\n",
    "    )\n",
    "    mel_spectrograms = tf.tensordot(stft_abs, linear_to_mel_weight_matrix, 1)\n",
    "    mel_spectrograms.set_shape(stft_abs.shape[:-1].concatenate(linear_to_mel_weight_matrix.shape[-1:]))\n",
    "\n",
    "    log_mel_spectrograms = tf.math.log(mel_spectrograms + 1e-6)\n",
    "    log_mel_d1 = log_mel_spectrograms - tf.roll(log_mel_spectrograms, -1, axis = 0)\n",
    "    log_mel_d2 = log_mel_d1 - tf.roll(log_mel_d1, -1, axis = 0)\n",
    "\n",
    "    log_mel_three_channel = tf.stack([log_mel_spectrograms, log_mel_d1, log_mel_d2], axis = -1)\n",
    "    \n",
    "    framed_log_mels = tf.signal.frame(log_mel_three_channel, frame_length=64, frame_step=32, pad_end=False, axis = 0)\n",
    "\n",
    "    return framed_log_mels"
   ]
  },
  {
   "cell_type": "code",
   "execution_count": 16,
   "metadata": {},
   "outputs": [],
   "source": [
    "import pandas as pd\n",
    "filenames = os.listdir(DATA_DIR)\n",
    "transcript_dict = {\n",
    "    \"01\" : \"Kids are talking by the door\",\n",
    "    \"02\" : \"Dogs are sitting by the door\"\n",
    "}\n",
    "\n",
    "transcript_list = [transcript_dict[x.split(\"-\")[5]] for x in filenames]\n",
    "\n",
    "dummy_df = pd.DataFrame(zip(filenames, transcript_list),columns=['filename', 'transcript'],)\n",
    "dummy_df.to_csv(\"filename_transcript.csv\",index=False)"
   ]
  },
  {
   "cell_type": "code",
   "execution_count": 19,
   "metadata": {},
   "outputs": [],
   "source": [
    "# Get transcripts and stuff, write util functions to get transcripts from the filenames\n",
    "# For RAVDEES there are only two statements. For other datasets there may be more. Better to go with something that can accept a csv\n",
    "# with filename and transcript, via a csv maybe\n",
    "\n",
    "def parse_filename_transcript_csv(csv_path):\n",
    "    df = pd.read_csv(csv_path)\n",
    "    file_name_list = np.array(df['filename'])\n",
    "    transcript_list = np.array(df['transcript'])\n",
    "\n",
    "    return (file_name_list, transcript_list)\n",
    "\n",
    "file_name_list, transcripts = parse_filename_transcript_csv(\"./filename_transcript.csv\")"
   ]
  },
  {
   "cell_type": "code",
   "execution_count": 20,
   "metadata": {},
   "outputs": [],
   "source": [
    "from sklearn.utils import shuffle\n",
    "file_name_list, transcripts, labels = shuffle(file_name_list, transcripts, labels)\n",
    "train_fps, val_fps, train_transcripts, val_transcripts, train_labels, val_labels = train_test_split(filepaths, transcripts, labels, test_size = 0.1)"
   ]
  },
  {
   "cell_type": "code",
   "execution_count": null,
   "metadata": {},
   "outputs": [],
   "source": []
  }
 ],
 "metadata": {
  "interpreter": {
   "hash": "31f2aee4e71d21fbe5cf8b01ff0e069b9275f58929596ceb00d14d90e3e16cd6"
  },
  "kernelspec": {
   "display_name": "Python 3.8.10 64-bit",
   "language": "python",
   "name": "python3"
  },
  "language_info": {
   "codemirror_mode": {
    "name": "ipython",
    "version": 3
   },
   "file_extension": ".py",
   "mimetype": "text/x-python",
   "name": "python",
   "nbconvert_exporter": "python",
   "pygments_lexer": "ipython3",
   "version": "3.8.10"
  },
  "orig_nbformat": 4
 },
 "nbformat": 4,
 "nbformat_minor": 2
}
